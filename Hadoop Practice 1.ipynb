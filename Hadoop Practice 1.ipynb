{
 "cells": [
  {
   "cell_type": "markdown",
   "id": "829c7edf-bc28-47f9-aa78-4f939f4d5abd",
   "metadata": {},
   "source": [
    "Note: My coding logic, the first column out from mapper is 'dictionary key'."
   ]
  },
  {
   "cell_type": "markdown",
   "id": "861a24d5-9d07-4f98-b762-caf92c9fd0ec",
   "metadata": {},
   "source": [
    "#### Query 1"
   ]
  },
  {
   "cell_type": "markdown",
   "id": "d8cd71fc-5931-453f-ae1e-0edc68cd1854",
   "metadata": {},
   "source": [
    "SELECT s_suppkey, s_name, s_city, s_nation, s_phone \\\n",
    "FROM supplier"
   ]
  },
  {
   "cell_type": "code",
   "execution_count": 1,
   "id": "708f6b3d-da23-443b-8ebc-b4d05a102cd4",
   "metadata": {},
   "outputs": [],
   "source": [
    "#Sample for simplified code. \n",
    "supplierLine = '1|Supplier#000000001|sdrGnXCDRcfriBvY0KL,i|PERU     0|PERU|AMERICA|27-989-741-2988|'"
   ]
  },
  {
   "cell_type": "code",
   "execution_count": 2,
   "id": "03f2697e-c97d-477a-ae61-2a502649e927",
   "metadata": {},
   "outputs": [],
   "source": [
    "#Mapper - Extract column name using index.\n",
    "#!/usr/bin/python\n",
    "import sys\n",
    "for line in sys.stdin:\n",
    "    columnName = line.strip().split('|', 7)\n",
    "    s_suppkey = columnName[0]\n",
    "    s_name = columnName[1]\n",
    "    s_city = columnName[3]\n",
    "    s_nation = columnName[4]\n",
    "    s_phone = columnName[6]\n",
    "    print(f\"{s_suppkey}|{s_name}|{s_city}|{s_nation}|{s_phone}\")"
   ]
  },
  {
   "cell_type": "code",
   "execution_count": 3,
   "id": "95f537e8-249e-467a-a028-0477af14ad3c",
   "metadata": {},
   "outputs": [
    {
     "name": "stdout",
     "output_type": "stream",
     "text": [
      "s_suppkey|s_name|s_city|s_nation|s_phone\n"
     ]
    }
   ],
   "source": [
    "#Reducer\n",
    "#!/usr/bin/python\n",
    "import sys\n",
    "print('s_suppkey|s_name|s_city|s_nation|s_phone')\n",
    "for line in sys.stdin:\n",
    "    print(line)"
   ]
  },
  {
   "cell_type": "markdown",
   "id": "36aeddf1-2e15-40fb-9d8d-097f157f901f",
   "metadata": {},
   "source": [
    "#### Query 2"
   ]
  },
  {
   "cell_type": "markdown",
   "id": "9b8960f6-6a35-446d-8dae-5411d7eb5d38",
   "metadata": {},
   "source": [
    "SELECT lo_quantity, lo_linenumber \\\n",
    "FROM lineorder \\\n",
    "WHERE lo_discount < 7 AND lo_tax > 3"
   ]
  },
  {
   "cell_type": "code",
   "execution_count": 4,
   "id": "f7764fb4-bc33-4e8f-9c39-4e03d060110d",
   "metadata": {},
   "outputs": [],
   "source": [
    "#Sample for simplified code.\n",
    "line_orderLine = ['1|1|7381|155190|828|19960102|5-LOW|0|17|2116823|17366547|4|2032150|74711|4|19960212|TRUCK']"
   ]
  },
  {
   "cell_type": "code",
   "execution_count": 5,
   "id": "aaaf21de-4633-43aa-a51a-383c201cd3c0",
   "metadata": {},
   "outputs": [],
   "source": [
    "#Mapper - Extract column name using index and filtered by indicated column.\n",
    "#!/usr/bin/python\n",
    "import sys\n",
    "for line in sys.stdin:\n",
    "    columnName = line.strip().split('|', 17)\n",
    "    lo_discount = int(columnName[11])\n",
    "    lo_tax = int(columnName[14])     \n",
    "    lo_quantity = int(columnName[8])\n",
    "    lo_linenumber = int(columnName[1])\n",
    "    if lo_discount < 7 and lo_tax > 3:\n",
    "        print(f\"{lo_quantity}|{lo_linenumber}\")"
   ]
  },
  {
   "cell_type": "code",
   "execution_count": 6,
   "id": "1c36db5d-c962-440e-a512-6984bd18f305",
   "metadata": {},
   "outputs": [
    {
     "name": "stdout",
     "output_type": "stream",
     "text": [
      "lo_quantity|lo_linenumber\n"
     ]
    }
   ],
   "source": [
    "#Reducer\n",
    "#!/usr/bin/python\n",
    "import sys\n",
    "print('lo_quantity|lo_linenumber')\n",
    "for line in sys.stdin:\n",
    "    print(line)"
   ]
  },
  {
   "cell_type": "markdown",
   "id": "f5776563-944a-4a16-bc23-4ac45ec315fe",
   "metadata": {},
   "source": [
    "#### Query 3"
   ]
  },
  {
   "cell_type": "markdown",
   "id": "95c367db-fc5d-4c0c-a075-73fa12577c10",
   "metadata": {},
   "source": [
    "SELECT p_category, COUNT(p_type) \\\n",
    "FROM part \\\n",
    "GROUP BY p_category"
   ]
  },
  {
   "cell_type": "code",
   "execution_count": 7,
   "id": "e7329bf0-9bfb-4885-8bc8-7fa8d6d25379",
   "metadata": {},
   "outputs": [],
   "source": [
    "#Sample for simplified code.\n",
    "partLines = ['1|lace spring|MFGR#1|MFGR#11|MFGR#1121|goldenrod|PROMO BURNISHED COPPER|7|JUMBO PKG|', \\\n",
    "             '2|rosy metallic|MFGR#4|MFGR#11|MFGR#4318|blush|LARGE BRUSHED BRASS|1|LG CASE|'] "
   ]
  },
  {
   "cell_type": "code",
   "execution_count": 8,
   "id": "fb707d1a-7c01-47de-bc29-83ec38bab61e",
   "metadata": {},
   "outputs": [],
   "source": [
    "#Mapper - Extract column name using index.\n",
    "#!/usr/bin/python\n",
    "import sys\n",
    "for line in sys.stdin:\n",
    "    columnName = line.strip().split('|', 8)\n",
    "    p_category = columnName[3]\n",
    "    p_type = columnName[6] \n",
    "    print(f\"{p_category}|{p_type}\")"
   ]
  },
  {
   "cell_type": "code",
   "execution_count": 9,
   "id": "f486de4f-fb67-4169-af5c-ffbaa8f01b47",
   "metadata": {},
   "outputs": [],
   "source": [
    "lineRes = ['MFGR#11|PROMO BURNISHED COPPER', 'MFGR#11|LARGE BRUSHED BRASS'] #Sample for simplified code."
   ]
  },
  {
   "cell_type": "code",
   "execution_count": 10,
   "id": "6512f54f-d241-4aa4-ab5c-6641e29af193",
   "metadata": {},
   "outputs": [
    {
     "name": "stdout",
     "output_type": "stream",
     "text": [
      "p_category|COUNT(p_type)\n"
     ]
    }
   ],
   "source": [
    "#Reducer\n",
    "#!/usr/bin/python\n",
    "import sys\n",
    "\n",
    "#Initiate iterated category placeholder and counter for each p_category.\n",
    "currentCategory = None\n",
    "counter = 0\n",
    "print('p_category|COUNT(p_type)')\n",
    "\n",
    "for line in sys.stdin:\n",
    "    p_category, p_type = line.strip().split('|')\n",
    "    if currentCategory is None: #Assign first p_category.\n",
    "        currentCategory = p_category\n",
    "    elif p_category != currentCategory: #Next cateogry, output current category and reset counter.\n",
    "        print(f\"{currentCategory}|{counter}\")\n",
    "        currentCategory = p_category\n",
    "        counter = 0\n",
    "    counter += 1\n",
    "    \n",
    "if currentCategory is not None:\n",
    "    print(f\"{currentCategory}|{counter}\")"
   ]
  },
  {
   "cell_type": "markdown",
   "id": "d00cc3cc-12a1-48ac-b25d-13b1f96564d0",
   "metadata": {},
   "source": [
    "#### Query 4"
   ]
  },
  {
   "cell_type": "markdown",
   "id": "fbcfc1db-f0ce-4ce9-b72e-b9ee85d6c391",
   "metadata": {},
   "source": [
    "SELECT lo_suppkey, lo_discount \\\n",
    "FROM lineorder \\\n",
    "WHERE lo_quantity < 12 \\\n",
    "GROUP BY lo_suppkey , lo_discount \\\n",
    "ORDER BY lo_discount"
   ]
  },
  {
   "cell_type": "code",
   "execution_count": 11,
   "id": "939fa26c-b862-49d7-81f5-5d7d9fa93358",
   "metadata": {},
   "outputs": [],
   "source": [
    "#Sample for simplified code.\n",
    "line_orderLines = ['1|1|7381|155190|828|19960102|5-LOW|0|10|2116823|17366547|4|2032150|74711|4|19960212|TRUCK|', \\\n",
    "                   '1|2|7381|67310|163|19960102|5-LOW|0|11|4598316|17366547|9|4184467|76638|6|19960228|MAIL|', \\\n",
    "                  '1|1|7381|155190|828|19960102|5-LOW|0|10|2116823|17366547|4|2032150|74711|4|19960212|VAN|']"
   ]
  },
  {
   "cell_type": "code",
   "execution_count": 12,
   "id": "e626a85f-9f41-441b-8d4b-161f9b0ec961",
   "metadata": {},
   "outputs": [],
   "source": [
    "#Mapper - Extract column name using index and filtered by indicated column.\n",
    "#!/usr/bin/python\n",
    "import sys\n",
    "for line in sys.stdin:\n",
    "    columnName = line.strip().split('|', 17)\n",
    "    lo_quantity = int(columnName[8])\n",
    "    lo_discount = int(columnName[11])\n",
    "    lo_suppkey = int(columnName[4])     \n",
    "    if lo_quantity < 12:\n",
    "        print(f\"{lo_suppkey}|{lo_discount}\")"
   ]
  },
  {
   "cell_type": "code",
   "execution_count": 13,
   "id": "2fb6edbd-a745-4946-8846-55a9934bf8c6",
   "metadata": {},
   "outputs": [],
   "source": [
    "lineRes = ['828|4', '163|9', '200|1', '828|1', '828|4' ] #Sample for simplified code."
   ]
  },
  {
   "cell_type": "code",
   "execution_count": 14,
   "id": "14b36ef4-3794-491d-8e66-2d60d0475574",
   "metadata": {},
   "outputs": [
    {
     "name": "stdout",
     "output_type": "stream",
     "text": [
      "lo_suppkey|lo_discount\n"
     ]
    }
   ],
   "source": [
    "#Reducer\n",
    "#!/usr/bin/python\n",
    "import sys\n",
    "\n",
    "#Initiate dictionary with lo_suppkey as key. Tackle this statement: GROUP BY lo_suppkey , lo_discount.\n",
    "suppkeyDict = {}\n",
    "print('lo_suppkey|lo_discount')\n",
    "\n",
    "for line in sys.stdin:\n",
    "    lo_suppkey, lo_discount = line.strip().split('|')\n",
    "    if lo_suppkey in suppkeyDict:\n",
    "        if lo_discount not in suppkeyDict[lo_suppkey]:\n",
    "            #Keep appending lo_discount value(s) associated to corresponding lo_suppkey key.\n",
    "            suppkeyDict[lo_suppkey].append(lo_discount) \n",
    "    else:\n",
    "        suppkeyDict[lo_suppkey] = [lo_discount]\n",
    "\n",
    "lo_discountList = [] #List contains all unique lo_discount values of each lo_suppkey.\n",
    "for lo_suppkey, lo_discounts in suppkeyDict.items():\n",
    "    lo_discountList.extend(lo_discounts) \n",
    "\n",
    "#Sort all lo_discount values in ascending order.\n",
    "lo_discountList = sorted(set(lo_discountList), key=int)\n",
    "\n",
    "#Print sorted lo_discount and corresponding lo_suppkey.\n",
    "for discount in lo_discountList:\n",
    "    for lo_suppkey, lo_discounts in suppkeyDict.items():\n",
    "        if discount in lo_discounts:\n",
    "            print(f\"{lo_suppkey}|{discount}\")"
   ]
  },
  {
   "cell_type": "markdown",
   "id": "e3ec0aaf-a535-469e-a74e-82755d141888",
   "metadata": {},
   "source": [
    "#### Query 5"
   ]
  },
  {
   "cell_type": "markdown",
   "id": "324bb05a-3665-46f5-b2aa-950cbe29eb59",
   "metadata": {},
   "source": [
    "SELECT lo_discount, AVG(lo_extendedprice) \\\n",
    "FROM lineorder \\\n",
    "GROUP BY lo_discount"
   ]
  },
  {
   "cell_type": "code",
   "execution_count": 15,
   "id": "57836301-3900-4c11-bb36-8e67c216414d",
   "metadata": {},
   "outputs": [],
   "source": [
    "#Mapper - Extract column name using index.\n",
    "#!/usr/bin/python\n",
    "import sys\n",
    "for line in sys.stdin:\n",
    "    columnName = line.strip().split('|', 17)\n",
    "    lo_discount = int(columnName[11])\n",
    "    lo_extendedprice = int(columnName[9])    \n",
    "    print(f\"{lo_discount}|{lo_extendedprice}\")"
   ]
  },
  {
   "cell_type": "code",
   "execution_count": 16,
   "id": "984058b8-c6cd-48ba-b123-036d6dcde22b",
   "metadata": {},
   "outputs": [],
   "source": [
    "lineRes = ['9|4598316', '10|1330960', '9|2895564', '10|2282448', '7|4962016', '0|4469446', '6|5405805', \\\n",
    "           '10|4679647', '6|3989088', '1|261876', '4|3298652', '10|2873364', '3|3069090', '2|2367855', '7|5072392', \\\n",
    "           '8|7342650', '8|6199831', '7|1360860'] #Sample for simplified code."
   ]
  },
  {
   "cell_type": "code",
   "execution_count": 17,
   "id": "097e854a-8096-49ef-a3c8-0ed85628f91e",
   "metadata": {},
   "outputs": [
    {
     "name": "stdout",
     "output_type": "stream",
     "text": [
      "lo_discount|AVG(lo_extendedprice)\n"
     ]
    }
   ],
   "source": [
    "#Reducer\n",
    "#!/usr/bin/python\n",
    "import sys\n",
    "\n",
    "#Dictionary with lo_discount as key and lo_extendedprice as values.\n",
    "discountDict = {}\n",
    "print('lo_discount|AVG(lo_extendedprice)')\n",
    "\n",
    "for line in sys.stdin:\n",
    "    lo_discount, lo_extendedprice = line.strip().split('|')\n",
    "    if lo_discount in discountDict:\n",
    "        discountDict[lo_discount].append(int(lo_extendedprice))\n",
    "    else:\n",
    "        discountDict[lo_discount] = [int(lo_extendedprice)]\n",
    "\n",
    "#For each dictionary item, calculate the average.\n",
    "for lo_discount, lo_extendedprices in discountDict.items():\n",
    "    avg_lo_extendedprices = sum(lo_extendedprices)/len(lo_extendedprices) \n",
    "    print(f\"{lo_discount}|{avg_lo_extendedprices}\")"
   ]
  },
  {
   "cell_type": "markdown",
   "id": "11053c88-8e6d-4042-af64-87e60480e13d",
   "metadata": {},
   "source": [
    "#### Query 6"
   ]
  },
  {
   "cell_type": "markdown",
   "id": "88943af0-e8b6-40ea-abb2-4838339a1989",
   "metadata": {},
   "source": [
    "SELECT lo_custkey, SUM(lo_extendedprice) AS revenue \\\n",
    "FROM lineorder \\\n",
    "WHERE lo_quantity < 12 \\\n",
    "GROUP BY lo_custkey"
   ]
  },
  {
   "cell_type": "code",
   "execution_count": 18,
   "id": "98f04eec-7ed1-40d2-a7b2-1739c9cfc772",
   "metadata": {},
   "outputs": [],
   "source": [
    "#Mapper - Extract column name using index and filtered by indicated column.\n",
    "#!/usr/bin/python\n",
    "import sys\n",
    "for line in sys.stdin:\n",
    "    columnName = line.strip().split('|', 17)\n",
    "    lo_custkey = int(columnName[2])\n",
    "    lo_extendedprice = int(columnName[9])   \n",
    "    lo_quantity = int(columnName[8]) \n",
    "    if lo_quantity < 12:\n",
    "        print(f\"{lo_custkey}|{lo_extendedprice}\")"
   ]
  },
  {
   "cell_type": "code",
   "execution_count": 19,
   "id": "3ece429a-71a0-42dd-9105-9315f896981e",
   "metadata": {},
   "outputs": [],
   "source": [
    "lineRes = ['7381|2116823', '7381|4598316', '7999|456799','7999|11111']"
   ]
  },
  {
   "cell_type": "code",
   "execution_count": 20,
   "id": "03fed638-c2be-4ceb-a5ab-99c8b559eb18",
   "metadata": {},
   "outputs": [
    {
     "name": "stdout",
     "output_type": "stream",
     "text": [
      "lo_custkey|revenue\n"
     ]
    }
   ],
   "source": [
    "#Reducer\n",
    "#!/usr/bin/python\n",
    "import sys\n",
    "\n",
    "#Dictionary with lo_custkey as key and lo_extendedprice as values. \n",
    "custkeyDict = {}\n",
    "print('lo_custkey|revenue')\n",
    "for line in sys.stdin:\n",
    "    lo_custkey, lo_extendedprice = line.strip().split('|')\n",
    "    if lo_custkey in custkeyDict:\n",
    "        custkeyDict[lo_custkey].append(int(lo_extendedprice))\n",
    "    else:\n",
    "        custkeyDict[lo_custkey] = [int(lo_extendedprice)]\n",
    "\n",
    "#For each dictionary item, get values count.\n",
    "for lo_custkey, lo_extendedprices in custkeyDict.items():\n",
    "    sum_lo_extendedprices = sum(lo_extendedprices)\n",
    "    print(f\"{lo_custkey}|{sum_lo_extendedprices}\")"
   ]
  },
  {
   "cell_type": "markdown",
   "id": "8d04ad12-525c-47de-bcab-2b37e733a758",
   "metadata": {},
   "source": [
    "#### Query 7"
   ]
  },
  {
   "cell_type": "markdown",
   "id": "9cc9970c-0f93-4c09-b04c-9f32eb10e153",
   "metadata": {},
   "source": [
    "SELECT d_datekey FROM dwdate \\\n",
    "WHERE d_datekey NOT IN( \\\n",
    "SELECT lo_orderdate FROM lineorder)"
   ]
  },
  {
   "cell_type": "code",
   "execution_count": 21,
   "id": "a8d3b884-f3b8-4cff-8a7e-4e61b65cc9ff",
   "metadata": {},
   "outputs": [],
   "source": [
    "#Sample for simplified code.\n",
    "lines = ['19920101|January 1, 1992|Thursday|January|1992|199201|Jan1992|5|1|1|1|1|Winter|0|1|1|1|', \\\n",
    "         '19920102|January 2, 1992|Friday|January|1992|199201|Jan1992|6|2|2|1|1|Winter|0|1|0|1|', \\\n",
    "         '19920103|January 3, 1992|Saturday|January|1992|199201|Jan1992|7|3|3|1|1|Winter|1|1|0|0|', \\\n",
    "         '19920104|January 4, 1992|Sunday|January|1992|199201|Jan1992|1|4|4|1|1|Winter|0|1|0|0|', \\\n",
    "         '19920105|January 5, 1992|Monday|January|1992|199201|Jan1992|2|5|5|1|1|Winter|0|1|0|1|', \\\n",
    "         '19920106|January 6, 1992|Tuesday|January|1992|199201|Jan1992|3|6|6|1|1|Winter|0|1|0|1|', \\\n",
    "         '19920103|January 2, 1992|Friday|January|1992|199201|Jan1992|6|2|2|1|1|Winter|0|1|0|1|', \\\n",
    "         '1|1|7381|155190|828|19960102|5-LOW|0|17|2116823|17366547|4|2032150|74711|2|19960212|TRUCK|', \\\n",
    "         '1|2|7381|67310|163|19960102|5-LOW|0|36|4598316|17366547|9|4184467|76638|6|19960228|MAIL|', \\\n",
    "         '1|3|7381|63700|71|19960102|5-LOW|0|8|1330960|17366547|10|1197864|99822|2|19960305|REG AIR|', \\\n",
    "         '1|4|7381|2132|943|19960102|5-LOW|0|28|2895564|17366547|9|2634963|62047|6|19960330|AIR|', \\\n",
    "         '1|5|7381|24027|1625|19960102|5-LOW|0|24|2282448|17366547|10|2054203|57061|4|19960314|FOB|', \\\n",
    "         '1|6|7381|15635|1368|19960102|5-LOW|0|32|4962016|17366547|7|4614674|93037|2|19960207|MAIL|']"
   ]
  },
  {
   "cell_type": "code",
   "execution_count": 22,
   "id": "b7c12aa4-4672-42ba-a5c9-882f963711a1",
   "metadata": {},
   "outputs": [],
   "source": [
    "#Mapper - Extract column name using index.\n",
    "#!/usr/bin/python\n",
    "import sys\n",
    "\n",
    "#Identify each table by using second to last character.\n",
    "for line in sys.stdin:\n",
    "    columnName = line.strip().split('|') #Since both tables have 17 columns.\n",
    "    if columnName[-2] == '0' or columnName[-2] == '1': \n",
    "        d_datekey = columnName[0]\n",
    "        print(f\"dwdate|{d_datekey}\")\n",
    "    else:\n",
    "        lo_orderdate = columnName[5]\n",
    "        print(f\"lineorder|{lo_orderdate}\")"
   ]
  },
  {
   "cell_type": "code",
   "execution_count": 23,
   "id": "1f86cca9-f52c-4110-a88b-0decc3e8fd85",
   "metadata": {},
   "outputs": [],
   "source": [
    "#Sample for simplified code.\n",
    "res = ['dwdate|10', 'dwdate|30', 'lineorder|10', 'lineorder|40']"
   ]
  },
  {
   "cell_type": "code",
   "execution_count": 24,
   "id": "0048936e-c404-42f6-a780-5335f01f6414",
   "metadata": {},
   "outputs": [
    {
     "name": "stdout",
     "output_type": "stream",
     "text": [
      "d_datekey\n"
     ]
    }
   ],
   "source": [
    "#Reducer\n",
    "#!/usr/bin/python\n",
    "import sys\n",
    "print('d_datekey')\n",
    "\n",
    "#Make sure it's unquie for comparison.\n",
    "dwdateKey = set()\n",
    "lineorderKey = set()\n",
    "\n",
    "for line in sys.stdin:\n",
    "    fileSource, value = line.strip().split('|')\n",
    "    if fileSource == \"dwdate\":\n",
    "        dwdateKey.add(value)\n",
    "    elif fileSource == \"lineorder\":\n",
    "        lineorderKey.add(value)\n",
    "\n",
    "#Find key that are not in lineorder.\n",
    "missingKey = dwdateKey - lineorderKey\n",
    "for d_datekey in missingKey:\n",
    "    print(d_datekey)"
   ]
  },
  {
   "cell_type": "markdown",
   "id": "07e02b5b-eaff-43e6-b3af-e5fb0aedf182",
   "metadata": {},
   "source": [
    "#### Query 8"
   ]
  },
  {
   "cell_type": "markdown",
   "id": "139bf648-9e2f-4cbb-93a7-fe93ea96fa76",
   "metadata": {},
   "source": [
    "Note: I tried to do join on the mapper side. My code was working on Jupyter Notebook but not in Hadoop Streaming. Also tweak mapper code here and there, still got the same result. So I did filter on mapper side, and join on reducer side and it worked.  "
   ]
  },
  {
   "cell_type": "markdown",
   "id": "ab0739c2-cd74-49b6-966c-05f670fbfd31",
   "metadata": {},
   "source": [
    "SELECT lo_orderdate, AVG(lo_extendedprice) AS revenue \\\n",
    "FROM lineorder, dwdate \\\n",
    "WHERE lo_orderdate = d_datekey \\\n",
    "AND d_year = 1998 \\\n",
    "AND lo_discount BETWEEN 5 AND 7 \\\n",
    "AND lo_quantity < 12 \\\n",
    "GROUP BY lo_orderdate;"
   ]
  },
  {
   "cell_type": "code",
   "execution_count": 25,
   "id": "c004fd2f-f148-41b2-aa05-8e3c8bf441f0",
   "metadata": {},
   "outputs": [],
   "source": [
    "#Sample for simplified code.\n",
    "lines = ['19920101|January 1, 1992|Thursday|January|1992|199201|Jan1992|5|1|1|1|1|Winter|0|1|1|1|', \\\n",
    "         '19920102|January 2, 1992|Friday|January|1992|199201|Jan1992|6|2|2|1|1|Winter|0|1|0|1|', \\\n",
    "         '19920103|January 3, 1992|Saturday|January|1998|199201|Jan1992|7|3|3|1|1|Winter|1|1|0|0|', \\\n",
    "         '19920104|January 4, 1992|Sunday|January|1998|199201|Jan1992|1|4|4|1|1|Winter|0|1|0|0|', \\\n",
    "         '19920102|January 5, 1992|Monday|January|1998|199201|Jan1992|2|5|5|1|1|Winter|0|1|0|1|', \\\n",
    "         '19920106|January 6, 1992}Tuesday|January|1992|199201|Jan1992|3|6|6|1|1|Winter|0|1|0|1|', \\\n",
    "         '19920103|January 2, 1992|Friday|January|1992|199201|Jan1992|6|2|2|1|1|Winter|0|1|0|1|', \\\n",
    "         '1|1|7381|155190|828|19960102|5-LOW|0|17|2116823|17366547|4|2032150|74711|2|19960212|TRUCK|', \\\n",
    "         '1|2|7381|67310|163|19960102|5-LOW|0|36|4598316|17366547|9|4184467|76638|6|19960228|MAIL|', \\\n",
    "         '1|3|7381|63700|71|19920106|5-LOW|0|8|1330960|17366547|10|1197864|99822|2|19960305|REG AIR|', \\\n",
    "         '1|4|7381|2132|943|19960102|5-LOW|0|28|2895564|17366547|9|2634963|62047|6|19960330|AIR|', \\\n",
    "         '1|5|7381|24027|1625|19960102|5-LOW|0|24|2282448|17366547|10|2054203|57061|4|19960314|FOB|', \\\n",
    "         '1|6|7381|15635|1368|19920102|5-LOW|0|10|4962016|17366547|7|4614674|93037|2|19960207|MAIL|']"
   ]
  },
  {
   "cell_type": "code",
   "execution_count": 26,
   "id": "3b51481c-ac8f-402b-ac25-93467135f456",
   "metadata": {},
   "outputs": [],
   "source": [
    "#Mapper - Extract column name using index and filtered by indicated column.\n",
    "#!/usr/bin/python\n",
    "import sys\n",
    "for line in sys.stdin:\n",
    "    columnName = line.strip().split('|', 17)\n",
    "    if columnName[-2] == '0' or columnName[-2] == '1':\n",
    "        d_datekey = columnName[0]\n",
    "        d_year = int(columnName[4])\n",
    "        if d_year == 1998: \n",
    "            print(f\"dwdate|{d_datekey}\") \n",
    "    else:\n",
    "        lo_orderdate = columnName[5]\n",
    "        lo_extendedprice = columnName[9]\n",
    "        lo_quantity = int(columnName[8])\n",
    "        lo_discount = int(columnName[11])\n",
    "        if lo_quantity < 12 and 5 <= int(lo_discount) <= 7:\n",
    "            print(f\"lineorder|{lo_orderdate}|{lo_extendedprice}\")"
   ]
  },
  {
   "cell_type": "code",
   "execution_count": 27,
   "id": "ada03fe7-3c38-4802-be60-82b74536590b",
   "metadata": {},
   "outputs": [],
   "source": [
    "#Sample for simplified code.\n",
    "res = ['dwdate|19920103', 'dwdate|19920104', 'dwdate|19920102', 'lineorder|19920102|20', 'lineorder|19920102|20', 'lineorder|19920104|10', 'lineorder|19920104|10']"
   ]
  },
  {
   "cell_type": "code",
   "execution_count": 28,
   "id": "ce15d325-a197-4b74-ba28-cdb352a2560b",
   "metadata": {},
   "outputs": [
    {
     "name": "stdout",
     "output_type": "stream",
     "text": [
      "lo_orderdate|revenue\n"
     ]
    }
   ],
   "source": [
    "#Reducer\n",
    "#!/usr/bin/python\n",
    "import sys\n",
    "\n",
    "#Initiate counters to calculate average revenue for each lo_orderdate. \n",
    "print('lo_orderdate|revenue')\n",
    "revSum = 0\n",
    "revCount = 0\n",
    "\n",
    "#Dictionaries for each table. Tackle this statement: WHERE lo_orderdate = d_datekey.\n",
    "#Note: Could you set data structure as well for dwdateDict. But in term of generalize use code, dictionary is better.\n",
    "dwdateDict = {}\n",
    "lineorderDict = {}\n",
    "\n",
    "for line in sys.stdin:\n",
    "    columnName = line.strip().split('|')\n",
    "    fileSource = columnName[0]\n",
    "    if fileSource == \"dwdate\":\n",
    "        d_datekey = columnName[1]\n",
    "        dwdateDict[d_datekey] = None #No values, just store d_datekey for comparison.\n",
    "    elif fileSource == \"lineorder\":\n",
    "        lo_orderdate = columnName[1]\n",
    "        lo_extendedprice = int(columnName[2])\n",
    "    \n",
    "        if lo_orderdate in dwdateDict: #Equivalent to WHERE lo_orderdate = d_datekey.\n",
    "            if lo_orderdate not in lineorderDict: #If new lo_orderdate.\n",
    "                lineorderDict[lo_orderdate] = {'revSum': 0, 'revCount': 0}\n",
    "            \n",
    "            #Keep appending.\n",
    "            lineorderDict[lo_orderdate]['revSum'] += lo_extendedprice\n",
    "            lineorderDict[lo_orderdate]['revCount'] += 1\n",
    "\n",
    "#For each item, average revenue output is already calculated here.\n",
    "for lo_orderdate, revenue in lineorderDict.items():\n",
    "    avgRev = revenue['revSum'] / revenue['revCount']\n",
    "    print(f\"{lo_orderdate}|{avgRev}\")"
   ]
  },
  {
   "cell_type": "markdown",
   "id": "45779da7-3f4f-427f-9c51-256c96405d60",
   "metadata": {},
   "source": [
    "#### Schema"
   ]
  },
  {
   "cell_type": "raw",
   "id": "32bd9442-6894-45bc-826d-2e79c06d2cc2",
   "metadata": {},
   "source": [
    "create table part (\n",
    "  p_partkey     int,\n",
    "  p_name        varchar(22),\n",
    "  p_mfgr        varchar(6),\n",
    "  p_category    varchar(7),\n",
    "  p_brand1      varchar(9),\n",
    "  p_color       varchar(11),\n",
    "  p_type        varchar(25),\n",
    "  p_size        int,\n",
    "  p_container   varchar(10)    \n",
    ");\n",
    "\n",
    "create table supplier (\n",
    "  s_suppkey     int,\n",
    "  s_name        varchar(25),\n",
    "  s_address     varchar(25),\n",
    "  s_city        varchar(10),\n",
    "  s_nation      varchar(15),\n",
    "  s_region      varchar(12),\n",
    "  s_phone       varchar(15)    \n",
    ");\n",
    "\n",
    "create table customer (\n",
    "  c_custkey     int,\n",
    "  c_name        varchar(25),\n",
    "  c_address     varchar(25),\n",
    "  c_city        varchar(10),\n",
    "  c_nation      varchar(15),\n",
    "  c_region      varchar(12),\n",
    "  c_phone       varchar(15),\n",
    "  c_mktsegment  varchar(10)    \n",
    ");\n",
    "\n",
    "create table dwdate (\n",
    "  d_datekey            int,\n",
    "  d_date               varchar(19),\n",
    "  d_dayofweek          varchar(10),\n",
    "  d_month              varchar(10),\n",
    "  d_year               int,\n",
    "  d_yearmonthnum       int,\n",
    "  d_yearmonth          varchar(8),\n",
    "  d_daynuminweek       int,\n",
    "  d_daynuminmonth      int,\n",
    "  d_daynuminyear       int,\n",
    "  d_monthnuminyear     int,\n",
    "  d_weeknuminyear      int,\n",
    "  d_sellingseason      varchar(13),\n",
    "  d_lastdayinweekfl    varchar(1),\n",
    "  d_lastdayinmonthfl   varchar(1),\n",
    "  d_holidayfl          varchar(1),\n",
    "  d_weekdayfl          varchar(1)     \n",
    ");\n",
    "\n",
    "create table lineorder (\n",
    "  lo_orderkey          int,\n",
    "  lo_linenumber        int,\n",
    "  lo_custkey           int,\n",
    "  lo_partkey           int,\n",
    "  lo_suppkey           int,\n",
    "  lo_orderdate         int,\n",
    "  lo_orderpriority     varchar(15),\n",
    "  lo_shippriority      varchar(1),\n",
    "  lo_quantity          int,\n",
    "  lo_extendedprice     int,\n",
    "  lo_ordertotalprice   int,\n",
    "  lo_discount          int,\n",
    "  lo_revenue           int,\n",
    "  lo_supplycost        int,\n",
    "  lo_tax               int,\n",
    "  lo_commitdate         int,\n",
    "  lo_shipmode          varchar(10)    \n",
    ");"
   ]
  },
  {
   "cell_type": "code",
   "execution_count": null,
   "id": "c9c10e59-fd8a-4df1-9940-0a60daeb5683",
   "metadata": {},
   "outputs": [],
   "source": []
  }
 ],
 "metadata": {
  "kernelspec": {
   "display_name": "Python 3 (ipykernel)",
   "language": "python",
   "name": "python3"
  },
  "language_info": {
   "codemirror_mode": {
    "name": "ipython",
    "version": 3
   },
   "file_extension": ".py",
   "mimetype": "text/x-python",
   "name": "python",
   "nbconvert_exporter": "python",
   "pygments_lexer": "ipython3",
   "version": "3.9.13"
  }
 },
 "nbformat": 4,
 "nbformat_minor": 5
}
