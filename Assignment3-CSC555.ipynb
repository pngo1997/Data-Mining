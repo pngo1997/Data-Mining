{
 "cells": [
  {
   "cell_type": "markdown",
   "id": "8d5aa01e-9ac0-4326-a5f6-f41067600d27",
   "metadata": {},
   "source": [
    "#### Student Name: Mai Ngo\n",
    "#### Course Name and Number: CSC 555 Big Data Mining\n",
    "#### Assignment 3\n",
    "#### Date: 10/25/2023"
   ]
  },
  {
   "cell_type": "markdown",
   "id": "f36c8915-fd1a-4321-a32f-dc8a6fe1c69b",
   "metadata": {},
   "source": [
    "### Part 2"
   ]
  },
  {
   "cell_type": "markdown",
   "id": "75559a0d-db10-455e-a2f8-36d1b84830e2",
   "metadata": {},
   "source": [
    "SELECT lo_quantity, MAX(lo_revenue) \\\n",
    "FROM (SELECT lo_revenue, MAX(lo_quantity) as lo_quantity, \\\n",
    "MAX(lo_discount) as lo_discount \\\n",
    "FROM lineorder \\\n",
    "WHERE lo_orderpriority LIKE '%URGENT' \\\n",
    "GROUP BY lo_revenue) \\\n",
    "WHERE lo_discount BETWEEN 5 AND 8 \\\n",
    "GROUP BY lo_quantity;"
   ]
  },
  {
   "cell_type": "markdown",
   "id": "64b75be2-bae5-4994-902c-11e89e2fd6f3",
   "metadata": {},
   "source": [
    "#### Break down query:"
   ]
  },
  {
   "cell_type": "markdown",
   "id": "02aea9fe-ba78-44ec-a480-d65ad1f475fb",
   "metadata": {},
   "source": [
    "Inner Query - 1st MR: \\\n",
    "SELECT lo_revenue, MAX(lo_quantity) as lo_quantity, MAX(lo_discount) as lo_discount \\\n",
    "FROM lineorder \\\n",
    "WHERE lo_orderpriority LIKE '%URGENT' \\\n",
    "GROUP BY lo_revenue \n",
    "\n",
    "Outter Query - 2nd MR: \\\n",
    "SELECT lo_quantity, MAX(lo_revenue) \\\n",
    "FROM Inner Query \\\n",
    "WHERE lo_discount BETWEEN 5 AND 8 \\\n",
    "GROUP BY lo_quantity;"
   ]
  },
  {
   "cell_type": "code",
   "execution_count": 66,
   "id": "47065a6b-14ba-4ac1-9dd3-318b0351962b",
   "metadata": {},
   "outputs": [],
   "source": [
    "#Sample for simplified code.\n",
    "sample1 = ['1|1|7381|155190|828|19960102|1-URGENT|0|17|2116823|17366547|4|2032150|74711|2|19960212|TRUCK|', \\\n",
    "           '1|2|7381|67310|163|19960102|1-URGENT|0|36|4598316|17366547|9|4184467|76638|6|19960228|MAIL|', \\\n",
    "           '1|3|7381|63700|71|19920106|1-URGENT|0|8|1330960|17366547|2|1197864|99822|2|19960305|REG AIR|', \\\n",
    "           '1|4|7381|2132|943|19960102|1-URGENT|0|28|2895564|17366547|8|2634963|62047|6|19960330|AIR|', \\\n",
    "           '1|5|7381|24027|1625|19960102|1-URGENT|0|24|2282448|17366547|10|2054203|57061|4|19960314|FOB|', \\\n",
    "           '1|6|7381|15635|1368|19920102|1-URGENT|0|17|4962016|17366547|3|4614674|93037|2|19960207|MAIL|', \\\n",
    "           '1|1|7381|155190|828|19960102|1-URGENT|0|17|2116823|17366547|5|2032150|74711|2|19960212|TRUCK|', \\\n",
    "           '1|2|7381|67310|163|19960102|1-URGENT|0|36|4598316|17366547|10|4184467|76638|6|19960228|MAIL|', \\\n",
    "           '1|3|7381|63700|71|19920106|1-URGENT|0|8|1330960|17366547|6|1197864|99822|2|19960305|REG AIR|', \\\n",
    "           '1|4|7381|2132|943|19960102|1-URGENT|0|8|2895564|17366547|7|2634963|62047|6|19960330|AIR|', \\\n",
    "           '1|5|7381|24027|1625|19960102|1-URGENT|0|24|2282448|17366547|11|2054203|57061|4|19960314|FOB|', \\\n",
    "           '1|6|7381|15635|1368|19920102|1-URGENT|0|10|4962016|17366547|7|4614674|93037|2|19960207|MAIL|']"
   ]
  },
  {
   "cell_type": "code",
   "execution_count": 67,
   "id": "0e90568e-e74d-45a4-aab1-0a51e6b9d8e1",
   "metadata": {},
   "outputs": [],
   "source": [
    "#Mapper1 - Extract column name using index and filtered by indicated column.\n",
    "#!/usr/bin/python\n",
    "import sys\n",
    "import re\n",
    "\n",
    "for line in sys.stdin:\n",
    "    columnName = line.strip().split('|', 17)\n",
    "    lo_revenue = int(columnName[12])\n",
    "    lo_quantity = int(columnName[8])\n",
    "    lo_discount = int(columnName[11])\n",
    "    lo_orderpriority = columnName[6]\n",
    "    #Using regular expression for 'URGENT' value. \n",
    "    pattern = r'.*URGENT.*'\n",
    "    if re.search(pattern, lo_orderpriority):\n",
    "        print(f\"{lo_revenue}|{lo_quantity}|{lo_discount}\")"
   ]
  },
  {
   "cell_type": "code",
   "execution_count": 69,
   "id": "d06a457d-37a5-4c14-9871-d953ac3fe747",
   "metadata": {},
   "outputs": [],
   "source": [
    "sample2 = ['2032150|17|4', '4184467|36|9', '1197864|8|2', '2634963|28|8', '2054203|24|10', \\\n",
    "           '4614674|17|3', '2032150|17|5', '4184467|36|10', '1197864|8|6', '2634963|8|7', \\\n",
    "           '2054203|24|11', '4614674|10|7']"
   ]
  },
  {
   "cell_type": "code",
   "execution_count": 70,
   "id": "7d72efbf-3901-4e70-aa84-a263f7050d16",
   "metadata": {},
   "outputs": [],
   "source": [
    "#Reducer1\n",
    "#!/usr/bin/python\n",
    "import sys\n",
    "\n",
    "#Dictionary with lo_revenue as key and lo_quantity/lo_discount as values.\n",
    "revenueDict = {}\n",
    "\n",
    "for line in sys.stdin:\n",
    "    lo_revenue, lo_quantity, lo_discount = map(int, line.strip().split('|'))\n",
    "    \n",
    "    if lo_revenue in revenueDict:\n",
    "        #Retrieve current quantity/discount values.\n",
    "        max_lo_quantity, max_lo_discount = revenueDict[lo_revenue]\n",
    "        \n",
    "        #Get max value by comparing with current iterated values.\n",
    "        max_lo_quantity = max(max_lo_quantity, lo_quantity)\n",
    "        max_lo_discount = max(max_lo_discount, lo_discount)\n",
    "        \n",
    "        #Overwrite max values.\n",
    "        revenueDict[lo_revenue] = (max_lo_quantity, max_lo_discount)\n",
    "    else:\n",
    "        #Initialize for new lo_revenue.\n",
    "        revenueDict[lo_revenue] = (lo_quantity, lo_discount)\n",
    "\n",
    "for lo_revenue, (max_lo_quantity, max_lo_discount) in revenueDict.items():\n",
    "    print(f\"{lo_revenue}|{max_lo_quantity}|{max_lo_discount}\")"
   ]
  },
  {
   "cell_type": "code",
   "execution_count": 64,
   "id": "711fa12a-76c5-4243-837c-374778623767",
   "metadata": {},
   "outputs": [],
   "source": [
    "sample3 = ['2032150|17|5', '4184467|36|10', '1197864|8|6', '2634963|8|8', '2054203|24|11', \\\n",
    "           '4614674|17|7']"
   ]
  },
  {
   "cell_type": "code",
   "execution_count": 71,
   "id": "17b14932-009f-4246-8fb6-529e1358af40",
   "metadata": {},
   "outputs": [],
   "source": [
    "#Mapper2 - Extract column name using index and filtered by indicated column.\n",
    "#!/usr/bin/python\n",
    "import sys\n",
    "\n",
    "for line in sys.stdin:\n",
    "    lo_revenue, lo_quantity, lo_discount = map(int, line.strip().split('|'))\n",
    "    if 5 <= lo_discount <= 8: \n",
    "        print(f\"{lo_revenue}|{lo_quantity}\")"
   ]
  },
  {
   "cell_type": "code",
   "execution_count": 62,
   "id": "0b049ac9-64e6-473d-9622-7e81877b2b22",
   "metadata": {},
   "outputs": [],
   "source": [
    "sample4 = ['2032150|17', '1197864|8', '2634963|8', '4614674|17']"
   ]
  },
  {
   "cell_type": "code",
   "execution_count": 63,
   "id": "b85d3de7-9ae5-4438-9354-1f269aa46f23",
   "metadata": {},
   "outputs": [
    {
     "name": "stdout",
     "output_type": "stream",
     "text": [
      "lo_quantity|MAX(lo_revenue)\n",
      "17|4614674\n",
      "8|2634963\n"
     ]
    }
   ],
   "source": [
    "#Reducer\n",
    "#!/usr/bin/python\n",
    "import sys\n",
    "\n",
    "#Dictionary with lo_quantity as key and maximum value of lo_revenue as value. \n",
    "quantityDict = {}\n",
    "print('lo_quantity|MAX(lo_revenue)')\n",
    "for line in sys.stdin:\n",
    "    lo_revenue, lo_quantity = map(int, line.strip().split('|'))\n",
    "    \n",
    "    if lo_quantity in quantityDict:\n",
    "        #Get max value by comparing with current iterated values.\n",
    "        max_lo_revenue = max(quantityDict[lo_quantity], lo_revenue)\n",
    "    else:\n",
    "        #If new lo_quantity key, initialize lo_revenu \n",
    "        max_lo_revenue = lo_revenue\n",
    "    quantityDict[lo_quantity] = max_lo_revenue\n",
    "\n",
    "for lo_quantity, max_lo_revenue in quantityDict.items():\n",
    "    print(f\"{lo_quantity}|{max_lo_revenue}\")"
   ]
  },
  {
   "cell_type": "raw",
   "id": "6172004d-e52d-4585-a075-28c61fb34435",
   "metadata": {},
   "source": [
    "create table lineorder (\n",
    "  lo_orderkey          int,\n",
    "  lo_linenumber        int,\n",
    "  lo_custkey           int,\n",
    "  lo_partkey           int,\n",
    "  lo_suppkey           int,\n",
    "  lo_orderdate         int,\n",
    "  lo_orderpriority     varchar(15),\n",
    "  lo_shippriority      varchar(1),\n",
    "  lo_quantity          int,\n",
    "  lo_extendedprice     int,\n",
    "  lo_ordertotalprice   int,\n",
    "  lo_discount          int,\n",
    "  lo_revenue           int,\n",
    "  lo_supplycost        int,\n",
    "  lo_tax               int,\n",
    "  lo_commitdate         int,\n",
    "  lo_shipmode          varchar(10)    \n",
    ");"
   ]
  },
  {
   "cell_type": "code",
   "execution_count": null,
   "id": "e1baeb97-70bb-4383-894a-ca0892f6590b",
   "metadata": {},
   "outputs": [],
   "source": []
  }
 ],
 "metadata": {
  "kernelspec": {
   "display_name": "Python 3 (ipykernel)",
   "language": "python",
   "name": "python3"
  },
  "language_info": {
   "codemirror_mode": {
    "name": "ipython",
    "version": 3
   },
   "file_extension": ".py",
   "mimetype": "text/x-python",
   "name": "python",
   "nbconvert_exporter": "python",
   "pygments_lexer": "ipython3",
   "version": "3.9.13"
  }
 },
 "nbformat": 4,
 "nbformat_minor": 5
}
